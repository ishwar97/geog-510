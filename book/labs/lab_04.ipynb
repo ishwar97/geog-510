{
 "cells": [
  {
   "cell_type": "markdown",
   "metadata": {},
   "source": [
    "# Lab 4\n",
    "\n",
    "[![Open In Colab](https://colab.research.google.com/assets/colab-badge.svg)](https://colab.research.google.com/github/ishwar97/geog-510/blob/main/book/labs/lab_04.ipynb)"
   ]
  },
  {
   "cell_type": "markdown",
   "metadata": {},
   "source": [
    "## Exercise 1: Variable Assignment and Basic Operations\n",
    "\n",
    "Create variables to store the following geospatial data:\n",
    "\n",
    "- The latitude and longitude of New York City: 40.7128, -74.0060.\n",
    "- The population of New York City: 8,336,817.\n",
    "- The area of New York City in square kilometers: 783.8.\n",
    "\n",
    "Perform the following tasks:\n",
    "\n",
    "1. Calculate and print the population density of New York City (population per square kilometer).\n",
    "2. Print the coordinates in the format \"Latitude: [latitude], Longitude: [longitude]\"."
   ]
  },
  {
   "cell_type": "code",
   "execution_count": null,
   "metadata": {},
   "outputs": [],
   "source": [
    "demographics = {\"city_name\": \"New York\", \"latitude\": 40.7128, \"longitude\": -74.0060}\n",
    "population = 8336817\n",
    "area_sqkm = 783.8\n",
    "pop_density = population / area_sqkm\n",
    "print(\"Population Density (per sqkm): \", round(pop_density, 3))\n",
    "print(\n",
    "    \"Latitude: {}, Longitude: {}\".format(\n",
    "        demographics.get(\"latitude\"), demographics.get(\"longitude\")\n",
    "    )\n",
    ")"
   ]
  },
  {
   "cell_type": "markdown",
   "metadata": {},
   "source": [
    "## Exercise 2: Working with Strings\n",
    "\n",
    "Create a string variable to store the name of a city, such as \"San Francisco\". Perform the following operations:\n",
    "\n",
    "1. Convert the string to lowercase and print the result.\n",
    "2. Convert the string to uppercase and print the result.\n",
    "3. Replace \"San\" with \"Los\" in the city name and print the new string."
   ]
  },
  {
   "cell_type": "code",
   "execution_count": null,
   "metadata": {},
   "outputs": [],
   "source": [
    "city = \"San Francisco\"\n",
    "print(\"Lower Case\", city.lower())\n",
    "print(\"Upper Case\", city.upper())\n",
    "city = city.replace(\"San\", \"Los\", 1)\n",
    "print(city)"
   ]
  },
  {
   "cell_type": "markdown",
   "metadata": {},
   "source": [
    "## Exercise 3: Using Lists\n",
    "\n",
    "Create a list of tuples, where each tuple contains the name of a city and its corresponding latitude and longitude:\n",
    "\n",
    "- New York City: (40.7128, -74.0060)\n",
    "- Los Angeles: (34.0522, -118.2437)\n",
    "- Chicago: (41.8781, -87.6298)\n",
    "\n",
    "Perform the following tasks:\n",
    "\n",
    "1. Add a new city (e.g., Miami: (25.7617, -80.1918)) to the list.\n",
    "2. Print the entire list of cities.\n",
    "3. Slice the list to print only the first two cities."
   ]
  },
  {
   "cell_type": "code",
   "execution_count": null,
   "metadata": {},
   "outputs": [],
   "source": [
    "cities = [\n",
    "    (\"New York City\", (40.7128, -74.0060)),\n",
    "    (\"Los Angeles\", (34.0522, -118.2437)),\n",
    "    (\"Chicago\", (41.8781, -87.6298)),\n",
    "]\n",
    "cities.append((\"Miami\", (25.7617, -80.1918)))\n",
    "print(cities)\n",
    "print(cities[:2])"
   ]
  },
  {
   "cell_type": "markdown",
   "metadata": {},
   "source": [
    "## Exercise 4: Using Tuples\n",
    "\n",
    "Create a tuple to store the coordinates (latitude, longitude) of the Eiffel Tower: (48.8584, 2.2945). Perform the following tasks:\n",
    "\n",
    "1. Access and print the latitude and longitude values from the tuple.\n",
    "2. Try to change the latitude value to 48.8585. What happens? Explain why."
   ]
  },
  {
   "cell_type": "code",
   "execution_count": null,
   "metadata": {},
   "outputs": [],
   "source": [
    "eiffel_tower = (48.8584, 2.2945)\n",
    "print(\"Latitude:{}, Longitude:{}\".format(eiffel_tower[0], eiffel_tower[1]))\n",
    "eiffel_tower[0] = 48.8585"
   ]
  },
  {
   "cell_type": "markdown",
   "metadata": {},
   "source": [
    "Reason for the error: Since tuples are immutable and we are trying to re-assign the value, it throws TypeError"
   ]
  },
  {
   "cell_type": "markdown",
   "metadata": {},
   "source": [
    "## Exercise 5: Working with Sets\n",
    "\n",
    "Create a set of countries you have visited, such as {\"USA\", \"France\", \"Germany\"}. Perform the following tasks:\n",
    "\n",
    "1. Add a new country to the set.\n",
    "2. Try to add the same country again. What happens?\n",
    "3. Print the updated set."
   ]
  },
  {
   "cell_type": "code",
   "execution_count": null,
   "metadata": {},
   "outputs": [],
   "source": [
    "countries = [\"Singapore\", \"Sri Lanka\", \"Germany\", \"Ireland\"]\n",
    "countries = set(countries)\n",
    "print(countries)\n",
    "countries.add(\"France\")\n",
    "countries.add(\"Sri Lanka\")\n",
    "print(countries)\n",
    "print('Reason: Adding already existing country to set does not actually update the list as the country is already present in the set')\n"
   ]
  },
  {
   "cell_type": "markdown",
   "metadata": {},
   "source": [
    "## Exercise 6: Working with Dictionaries\n",
    "\n",
    "Create a dictionary to store information about a specific geospatial feature, such as a river:\n",
    "\n",
    "- Name: \"Amazon River\"\n",
    "- Length: 6400 km\n",
    "- Countries: [\"Brazil\", \"Peru\", \"Colombia\"]\n",
    "\n",
    "Perform the following tasks:\n",
    "\n",
    "1. Add a new key-value pair to the dictionary to store the river's average discharge (e.g., 209,000 m³/s).\n",
    "2. Update the length of the river to 6992 km.\n",
    "3. Print the dictionary."
   ]
  },
  {
   "cell_type": "code",
   "execution_count": null,
   "metadata": {},
   "outputs": [],
   "source": [
    "river = {\n",
    "    \"Name\": \"Amazon River\",\n",
    "    \"Length\": 6400,\n",
    "    \"Countries\": [\"Brazil\", \"Peru\", \"Colombia\"],\n",
    "}\n",
    "print(river)\n",
    "river[\"Discharge\"] = 209000\n",
    "river[\"Length\"] = 6992  # Updated length\n",
    "print(\"Updated River Data \\n\", river)"
   ]
  },
  {
   "cell_type": "markdown",
   "metadata": {},
   "source": [
    "## Exercise 7: Nested Data Structures\n",
    "\n",
    "Create a dictionary to represent a city that contains the city's name, population, and coordinates (latitude, longitude):\n",
    "\n",
    "- Name: \"Tokyo\"\n",
    "- Population: 13,515,271\n",
    "- Coordinates: (35.6895, 139.6917)\n",
    "\n",
    "Perform the following tasks:\n",
    "\n",
    "1. Access and print the population of the city.\n",
    "2. Access and print the city's latitude.\n",
    "3. Update the population to 14,000,000 and print the updated dictionary."
   ]
  },
  {
   "cell_type": "code",
   "execution_count": null,
   "metadata": {},
   "outputs": [],
   "source": [
    "city_data = {\n",
    "    \"name\": \"Tokyo\",\n",
    "    \"population\": 13515271,\n",
    "    \"coordinates\": (35.6895, 139.6917),\n",
    "}\n",
    "print(\"Population:\", city_data[\"population\"])\n",
    "print(\"Latitude:\", city_data[\"coordinates\"][0])\n",
    "city_data[\"population\"] = 14000000\n",
    "print(\"Updated Population:\", city_data[\"population\"])"
   ]
  },
  {
   "cell_type": "markdown",
   "metadata": {},
   "source": [
    "## Exercise 8: List Operations\n",
    "\n",
    "Given the list of cities from Exercise 3, perform the following operations:\n",
    "\n",
    "1. Sort the list of cities alphabetically by name.\n",
    "2. Create a new list that contains only the city names.\n",
    "3. Remove the last city from the original list and print the updated list."
   ]
  },
  {
   "cell_type": "code",
   "execution_count": null,
   "metadata": {},
   "outputs": [],
   "source": [
    "cities.sort()\n",
    "names = []\n",
    "for i in range(0, len(cities)):\n",
    "    name = cities[i][0]\n",
    "    names.append(name)\n",
    "print(names)\n",
    "names.pop(-1)\n",
    "print(names)"
   ]
  },
  {
   "cell_type": "markdown",
   "metadata": {},
   "source": [
    "## Exercise 9: Dictionary Operations\n",
    "\n",
    "Using the dictionary from Exercise 6, perform the following tasks:\n",
    "\n",
    "1. Check if the key \"Length\" exists in the dictionary.\n",
    "2. Print all the keys in the dictionary.\n",
    "3. Print all the values in the dictionary."
   ]
  },
  {
   "cell_type": "code",
   "execution_count": null,
   "metadata": {},
   "outputs": [],
   "source": [
    "print(river[\"Length\"])\n",
    "print(river.keys())\n",
    "print(river.values())"
   ]
  },
  {
   "cell_type": "markdown",
   "metadata": {},
   "source": [
    "## Exercise 10: Practical Application\n",
    "\n",
    "Imagine you have a list of tuples, each representing a location with its name, latitude, and longitude:"
   ]
  },
  {
   "cell_type": "code",
   "execution_count": null,
   "metadata": {},
   "outputs": [],
   "source": [
    "locations = [\n",
    "    (\"Mount Everest\", 27.9881, 86.9250),\n",
    "    (\"K2\", 35.8808, 76.5155),\n",
    "    (\"Kangchenjunga\", 27.7025, 88.1475),\n",
    "]"
   ]
  },
  {
   "cell_type": "markdown",
   "metadata": {},
   "source": [
    "Perform the following tasks:\n",
    "\n",
    "1. Create a new list that contains only the names of the locations.\n",
    "2. Create a dictionary where the keys are location names and the values are tuples of their coordinates.\n",
    "3. Print the latitude of \"K2\" using the dictionary."
   ]
  },
  {
   "cell_type": "code",
   "execution_count": null,
   "metadata": {},
   "outputs": [],
   "source": [
    "location_names = []\n",
    "coordinates = []\n",
    "for i in range(0, len(locations)):\n",
    "    location_names.append(locations[i][0])\n",
    "    coordinates.append((locations[i][1:]))\n",
    "print(location_names)\n",
    "print(coordinates)\n",
    "mountain_locations = dict(zip(location_names, coordinates))\n",
    "print(mountain_locations)\n",
    "print(\"Latitude of K2: {}\".format(mountain_locations[\"K2\"][0]))"
   ]
  },
  {
   "cell_type": "markdown",
   "metadata": {},
   "source": [
    "## Exercise 11: Manipulating Geographic Location Strings\n",
    "\n",
    "- Create a string that represents the name of a geographic feature (e.g., `\"Amazon River\"`).\n",
    "- Convert the string to lowercase and then to uppercase.\n",
    "- Concatenate the string with the name of the country (e.g., `\"Brazil\"`) to create a full location name.\n",
    "- Repeat the string three times, separating each repetition with a dash (`-`)."
   ]
  },
  {
   "cell_type": "code",
   "execution_count": null,
   "metadata": {},
   "outputs": [],
   "source": [
    "river_name = \"Amazon River\"\n",
    "print(river_name.lower())\n",
    "print(river_name.upper())\n",
    "print(river_name + \" Brazil\")\n",
    "print(str(f\"{river_name}- \" * 3)[:-2])"
   ]
  },
  {
   "cell_type": "markdown",
   "metadata": {},
   "source": [
    "## Exercise 12: Extracting and Formatting Coordinates\n",
    "\n",
    "- Given a string with the format `\"latitude, longitude\"` (e.g., `\"40.7128N, 74.0060W\"`), extract the numeric values of latitude and longitude.\n",
    "- Convert these values to floats and remove the directional indicators (`N`, `S`, `E`, `W`).\n",
    "- Format the coordinates into a `POINT` WKT string (e.g., `\"POINT(-74.0060 40.7128)\"`)."
   ]
  },
  {
   "cell_type": "code",
   "execution_count": null,
   "metadata": {},
   "outputs": [],
   "source": [
    "latitude = \"40.7128N\"\n",
    "longitude = \"74.0060W\"\n",
    "latitude = float(latitude[:-1])\n",
    "longitude = float(longitude[:-1])\n",
    "point = str(f\"POINT(-{longitude} {latitude})\")\n",
    "print(point)"
   ]
  },
  {
   "cell_type": "markdown",
   "metadata": {},
   "source": [
    "## Exercise 13: Building Dynamic SQL Queries\n",
    "\n",
    "- Given a table name and a condition, dynamically build an SQL query string.\n",
    "- Example: If `table_name = \"cities\"` and `condition = \"population > 1000000\"`, the query should be `\"SELECT * FROM cities WHERE population > 1000000;\"`.\n",
    "- Add additional conditions dynamically, like `AND` clauses."
   ]
  },
  {
   "cell_type": "code",
   "execution_count": null,
   "metadata": {},
   "outputs": [],
   "source": [
    "table_name = \"cities\"\n",
    "condition = \"population > 1000000\"\n",
    "print(str(f\"SELECT * FROM {table_name} WHERE {condition};\"))\n",
    "condition2 = \"country == 'India'\"\n",
    "print(str(f\"SELECT * FROM {table_name} WHERE {condition} AND {condition2};\"))"
   ]
  },
  {
   "cell_type": "markdown",
   "metadata": {},
   "source": [
    "## Exercise 14: String Normalization and Cleaning\n",
    "\n",
    "- Given a list of city names with inconsistent formatting (e.g., `[\" new york \", \"Los ANGELES\", \"   CHICAGO\"]`), normalize the names by:\n",
    "  - Stripping any leading or trailing whitespace.\n",
    "  - Converting them to title case (e.g., `\"New York\"`, `\"Los Angeles\"`, `\"Chicago\"`).\n",
    "- Ensure that the output is a clean list of city names."
   ]
  },
  {
   "cell_type": "code",
   "execution_count": null,
   "metadata": {},
   "outputs": [],
   "source": [
    "city_names = [\" new york \", \"Los ANGELES\", \"   CHICAGO\"]\n",
    "city_names = [x.strip() for x in city_names]\n",
    "city_names = str(city_names).title()\n",
    "print(city_names)"
   ]
  },
  {
   "cell_type": "markdown",
   "metadata": {},
   "source": [
    "## Exercise 15: Parsing and Extracting Address Information\n",
    "\n",
    "- Given a string in the format `\"Street, City, Country\"` (e.g., `\"123 Main St, Springfield, USA\"`), write a function that parses the string into a dictionary with keys `street`, `city`, and `country`.\n",
    "- The function should return a dictionary like `{\"street\": \"123 Main St\", \"city\": \"Springfield\", \"country\": \"USA\"}`."
   ]
  },
  {
   "cell_type": "code",
   "execution_count": null,
   "metadata": {},
   "outputs": [],
   "source": [
    "address = \"123 Main St, Springfield, USA\"\n",
    "\n",
    "\n",
    "def insert_address(address):\n",
    "    street, city, country = str(address).split(\",\")\n",
    "    address_dict = {\"street\": street, \"city\": city, \"country\": country}\n",
    "    return address_dict\n",
    "\n",
    "\n",
    "address_dict = insert_address(address)\n",
    "print(address_dict)"
   ]
  },
  {
   "cell_type": "markdown",
   "metadata": {},
   "source": [
    "## Exercise 16: Using For Loops to Process Coordinate Lists\n",
    "\n",
    "- Create a list of tuples representing coordinates (latitude, longitude).\n",
    "- Write a `for` loop that prints each coordinate and indicates whether it is in the Northern or Southern Hemisphere based on the latitude."
   ]
  },
  {
   "cell_type": "code",
   "execution_count": null,
   "metadata": {},
   "outputs": [],
   "source": [
    "coordinates = [\n",
    "    (-34.6789, 75.8985),\n",
    "    (19.7475, 79.1412),\n",
    "    (-23.6923, 35.1890),\n",
    "    (19.7842, 56.2343),\n",
    "]\n",
    "for lat, long in coordinates:\n",
    "    if lat > 0:\n",
    "        hemisphere = \"Northern Hemisphere\"\n",
    "    else:\n",
    "        hemisphere = \"Southern Hemisphere\"\n",
    "    print(f\"{lat}, {long} - {hemisphere}\")"
   ]
  },
  {
   "cell_type": "markdown",
   "metadata": {},
   "source": [
    "## Exercise 17: While Loops for Iterative Processing\n",
    "\n",
    "- Create a list of coordinates (latitude, longitude).\n",
    "- Write a `while` loop that continues to print each coordinate until it encounters a coordinate with a negative latitude.\n",
    "- Stop the loop once this condition is met."
   ]
  },
  {
   "cell_type": "code",
   "execution_count": null,
   "metadata": {},
   "outputs": [],
   "source": [
    "coordinates.sort(reverse=True)\n",
    "print(coordinates)\n",
    "\n",
    "lat, long = zip(*coordinates)\n",
    "i = 0\n",
    "while lat[i] > 0:\n",
    "    print(f\"({lat[i]}, {long[i]})\")\n",
    "    i += 1"
   ]
  },
  {
   "cell_type": "markdown",
   "metadata": {},
   "source": [
    "## Exercise 18: Conditional Logic in Loops\n",
    "\n",
    "- Create a list of coordinates and use a `for` loop to iterate over them.\n",
    "- Use an `if-elif-else` statement inside the loop to classify each coordinate based on its longitude:\n",
    "  - Print `\"Eastern Hemisphere\"` if the longitude is greater than 0.\n",
    "  - Print `\"Western Hemisphere\"` if the longitude is less than 0."
   ]
  },
  {
   "cell_type": "code",
   "execution_count": null,
   "metadata": {},
   "outputs": [],
   "source": [
    "coordinates = [\n",
    "    (-78.9887, -2.5474),\n",
    "    (89.6747, 12.5763),\n",
    "    (-12.2521, 0),\n",
    "    (17.5193, -8.1451),\n",
    "]\n",
    "for lat, long in coordinates:\n",
    "    if long > 0:\n",
    "        hemisphere = \"Eastern Hemisphere\"\n",
    "    elif long < 0:\n",
    "        hemisphere = \"Western Hemisphere\"\n",
    "    else:\n",
    "        hemisphere = \"None\"\n",
    "    print(f\"{lat}, {long} - {hemisphere}\")"
   ]
  },
  {
   "cell_type": "markdown",
   "metadata": {},
   "source": [
    "## Exercise 19: Filtering Data with Combined Loops and Conditionals\n",
    "\n",
    "- Given a list of coordinates, filter out and store only those located in the Southern Hemisphere (latitude < 0).\n",
    "- Count the number of coordinates that meet this condition and print the result."
   ]
  },
  {
   "cell_type": "code",
   "execution_count": null,
   "metadata": {},
   "outputs": [],
   "source": [
    "south_hem = []\n",
    "coordinates = [\n",
    "    (-34.6789, 75.8985),\n",
    "    (19.7475, 79.1412),\n",
    "    (-23.6923, 35.1890),\n",
    "    (19.7842, 56.2343),\n",
    "]\n",
    "for lat, long in coordinates:\n",
    "    if lat > 0:\n",
    "        hemisphere = \"Northern Hemisphere\"\n",
    "    else:\n",
    "        hemisphere = \"Southern Hemisphere\"\n",
    "        south_hem.append((lat, long))\n",
    "\n",
    "print(\"Coordinates in southern hemisphere: \", south_hem)\n",
    "print(f\"Count of coordinates in southern hemisphere: {len(south_hem)}\")"
   ]
  },
  {
   "cell_type": "markdown",
   "metadata": {},
   "source": [
    "## Exercise 20: Generating and Analyzing Random Coordinates\n",
    "\n",
    "- Write a program that generates random coordinates (latitude between [-90, 90] degrees and longitude between [-180, 180] degrees).\n",
    "- Use a `while` loop to keep generating coordinates until a pair with both latitude and longitude greater than 50 is generated.\n",
    "- Print each generated coordinate and the final coordinate that meets the condition."
   ]
  },
  {
   "cell_type": "code",
   "execution_count": null,
   "metadata": {},
   "outputs": [],
   "source": [
    "import numpy.random as random\n",
    "\n",
    "lat = 0\n",
    "long = 0\n",
    "coordinates = []\n",
    "while lat < 50 and long < 50:\n",
    "    lat, long = random.uniform(-90, 90), random.uniform(-180, 180)\n",
    "    coordinates.append((lat, long))\n",
    "    print(f\"({lat}, {long})\")"
   ]
  },
  {
   "cell_type": "markdown",
   "metadata": {},
   "source": [
    "## Submission Requirements\n",
    "\n",
    "Complete the exercises above and and upload the notebook to your GitHub repository. Make sure the notebook has a Colab badge at the top so that it can be easily opened in Google Colab. Submit the URL of the notebook to Canvas."
   ]
  }
 ],
 "metadata": {
  "kernelspec": {
   "display_name": "dev",
   "language": "python",
   "name": "python3"
  },
  "language_info": {
   "codemirror_mode": {
    "name": "ipython",
    "version": 3
   },
   "file_extension": ".py",
   "mimetype": "text/x-python",
   "name": "python",
   "nbconvert_exporter": "python",
   "pygments_lexer": "ipython3",
   "version": "3.11.11"
  }
 },
 "nbformat": 4,
 "nbformat_minor": 4
}
